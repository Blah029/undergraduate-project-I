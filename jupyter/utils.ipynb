{
 "cells": [
  {
   "cell_type": "markdown",
   "metadata": {},
   "source": [
    "# CULane Labels\n",
    "\n",
    "driver 100\n",
    "- 0278: 00330 - 01110  \n",
    "- 0283: 00000 - 01590  \n",
    "- 0284: 00750 - 02190  \n",
    "- 0289: 00000 - 05370  \n",
    "- 0290: 00000 - 02940  \n",
    "- 0500: 00000 - 04350  \n",
    "- 0505: 01710 - 04290  \n",
    "- 0506: 01710 - 05370  \n",
    "- 0511: 00000 - 02250  \n",
    "- 0512: 00000 - 04920  "
   ]
  },
  {
   "cell_type": "code",
   "execution_count": 100,
   "metadata": {},
   "outputs": [
    {
     "name": "stdout",
     "output_type": "stream",
     "text": [
      "Image count 1006\n",
      "Raw abel count 1006\n",
      "Extra raw labels\n",
      "[]\n",
      "Missing raw labels\n",
      "[]\n"
     ]
    }
   ],
   "source": [
    "import cv2\n",
    "import numpy as np\n",
    "import os\n",
    "\n",
    "dir_dataset = f\"C:\\\\Users\\\\User Files\\\\Documents\\\\University\\\\Misc\\\\4th Year Work\\\\Final Year Project\\\\Datasets\\\\image-footage\\\\CULane Selected\\\\Image-Label Couples\"\n",
    "dir_raw_label = f\"C:\\\\Users\\\\User Files\\\\Documents\\\\University\\\\Misc\\\\4th Year Work\\\\Final Year Project\\\\Datasets\\\\image-footage\\\\CULane Selected\\\\Raw Labels\"\n",
    "dir_overlay = f\"C:\\\\Users\\\\User Files\\\\Documents\\\\University\\\\Misc\\\\4th Year Work\\\\Final Year Project\\\\Datasets\\\\image-footage\\\\CULane Selected\\\\Overlaid\"\n",
    "image_list = os.listdir(f\"{dir_dataset}\\\\images\")\n",
    "raw_label_list = os.listdir(dir_raw_label)\n",
    "## Remove unwanted file\n",
    "if 'desktop.ini' in raw_label_list:\n",
    "    raw_label_list.remove('desktop.ini')\n",
    "if 'desktop.ini' in image_list:\n",
    "    image_list.remove('desktop.ini')\n",
    "# print(raw_label_list)\n",
    "# print(image_list)\n",
    "\n",
    "def difference(primary_list,secondary_list):\n",
    "    return [item for item in secondary_list if item not in primary_list]\n",
    "\n",
    "\n",
    "print(\"Image count\", len(image_list))\n",
    "print(\"Raw abel count\", len(raw_label_list))\n",
    "print(\"Extra raw labels\")\n",
    "print(difference(image_list,raw_label_list))\n",
    "print(\"Missing raw labels\")\n",
    "print(difference(raw_label_list,image_list))"
   ]
  },
  {
   "cell_type": "markdown",
   "metadata": {},
   "source": [
    "## Generate labels"
   ]
  },
  {
   "cell_type": "code",
   "execution_count": 107,
   "metadata": {},
   "outputs": [],
   "source": [
    "# def middle_lines(arr):\n",
    "#     \"\"\"Keep middle lines and remove others\"\"\"\n",
    "#     arr = arr[:,:,0]\n",
    "#     rows, cols = arr.shape\n",
    "#     mid = cols // 2\n",
    "#     ## write\n",
    "#     return np.dstack([result,result,result])\n",
    "\n",
    "\n",
    "for i,filename in enumerate(raw_label_list[0:]):\n",
    "    label = cv2.imread(f\"{dir_raw_label}\\\\{filename}\")\n",
    "    ## Keep middle lines and remove others\n",
    "    # print(label.shape)\n",
    "    # label = middle_lines(label)\n",
    "    # print(label.shape)\n",
    "    label = np.digitize(label,[1])*255\n",
    "    label = label.astype(np.uint8)\n",
    "    ## Show label\n",
    "    # cv2.imshow(filename,label)\n",
    "    # cv2.waitKey(0)\n",
    "    # cv2.destroyAllWindows()\n",
    "    ## Save label\n",
    "    cv2.imwrite(f\"{dir_dataset}\\\\labels\\\\{filename}\",label)"
   ]
  },
  {
   "cell_type": "markdown",
   "metadata": {},
   "source": [
    "## Generate overlay"
   ]
  },
  {
   "cell_type": "code",
   "execution_count": 121,
   "metadata": {},
   "outputs": [],
   "source": [
    "for i,filename in enumerate(image_list[0:]):\n",
    "    image = cv2.imread(f\"{dir_dataset}\\\\images\\\\{filename}\")\n",
    "    label = cv2.imread(f\"{dir_dataset}\\\\labels\\\\{filename}\")\n",
    "    # print(np.unique(image))\n",
    "    # print(np.unique(label))\n",
    "    overlay = cv2.addWeighted(image,0.75,label,0.25,0)\n",
    "    cv2.imwrite(f\"{dir_overlay}\\\\{''.join(image_list[i])}\",overlay)"
   ]
  },
  {
   "cell_type": "markdown",
   "metadata": {},
   "source": [
    "# OpenCV vs matplotlib BGR vs RGB"
   ]
  },
  {
   "cell_type": "code",
   "execution_count": null,
   "metadata": {},
   "outputs": [],
   "source": [
    "import cv2\n",
    "import matplotlib.pyplot as plt\n",
    "import numpy as np\n",
    "\n",
    "file = f\"C:\\\\Users\\\\User\\\\Desktop\\\\Untitled.png\"\n",
    "image_cv2 = cv2.imread(file)\n",
    "image_plt = plt.imread(file)\n",
    "\n",
    "fig,ax = plt.subplots(2,1)\n",
    "fig.tight_layout()\n",
    "ax[0].imshow(image_cv2)\n",
    "ax[0].set_title(\"Open CV\")\n",
    "ax[1].imshow(image_plt)\n",
    "ax[1].set_title(\"Matplotlib\")\n"
   ]
  }
 ],
 "metadata": {
  "kernelspec": {
   "display_name": "Python 3",
   "language": "python",
   "name": "python3"
  },
  "language_info": {
   "codemirror_mode": {
    "name": "ipython",
    "version": 3
   },
   "file_extension": ".py",
   "mimetype": "text/x-python",
   "name": "python",
   "nbconvert_exporter": "python",
   "pygments_lexer": "ipython3",
   "version": "3.9.13"
  },
  "orig_nbformat": 4
 },
 "nbformat": 4,
 "nbformat_minor": 2
}
